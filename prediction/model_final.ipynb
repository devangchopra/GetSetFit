{
 "cells": [
  {
   "cell_type": "code",
   "execution_count": 7,
   "metadata": {},
   "outputs": [],
   "source": [
    "import matplotlib.pyplot as plt\n",
    "import tensorflow as tf\n",
    "import os\n",
    "%matplotlib inline"
   ]
  },
  {
   "cell_type": "code",
   "execution_count": 8,
   "metadata": {},
   "outputs": [],
   "source": [
    "from tensorflow.keras.applications.inception_v3 import InceptionV3\n",
    "from tensorflow.keras.models import Model\n",
    "from tensorflow.keras.layers import Dense, Dropout, GlobalAveragePooling2D, Flatten\n",
    "from tensorflow.keras.optimizers import Adam, SGD"
   ]
  },
  {
   "cell_type": "code",
   "execution_count": 9,
   "metadata": {},
   "outputs": [],
   "source": [
    "inception = InceptionV3(\n",
    "        weights='imagenet', include_top=False, input_shape=(224,224,3))\n",
    "\n",
    "for layer in inception.layers:\n",
    "    layer.trainable = False\n",
    "    \n",
    "x_layer = inception.output\n",
    "x_layer = Flatten()(x_layer)\n",
    "x_layer = Dense(1024, activation='relu')(x_layer)\n",
    "x_layer = Dropout(0.3)(x_layer)\n",
    "\n",
    "predictions = Dense(7, activation='softmax')(x_layer)\n",
    "\n",
    "model = Model(inputs=inception.input, outputs=predictions)"
   ]
  },
  {
   "cell_type": "code",
   "execution_count": 11,
   "metadata": {},
   "outputs": [
    {
     "data": {
      "text/plain": [
       "<tensorflow.python.training.tracking.util.CheckpointLoadStatus at 0x7f19da51caf0>"
      ]
     },
     "execution_count": 11,
     "metadata": {},
     "output_type": "execute_result"
    }
   ],
   "source": [
    "checkpoint_path=\"../checkpoint/cp.ckpt\"\n",
    "# checkpoint_dir=os.path.dirname(checkpoint_path)\n",
    "model.load_weights(checkpoint_path)"
   ]
  },
  {
   "cell_type": "code",
   "execution_count": 12,
   "metadata": {},
   "outputs": [],
   "source": [
    "labels=['bread', 'chai', 'egg_boiled', 'egg_omlet', 'rice', 'roti', 'yellow_dal']\n"
   ]
  },
  {
   "cell_type": "code",
   "execution_count": 19,
   "metadata": {},
   "outputs": [],
   "source": [
    "#---------------------------path for image\n",
    "path=\"../testing/2.jpeg\""
   ]
  },
  {
   "cell_type": "code",
   "execution_count": 20,
   "metadata": {},
   "outputs": [
    {
     "name": "stdout",
     "output_type": "stream",
     "text": [
      "chai\n"
     ]
    }
   ],
   "source": [
    "import numpy as np\n",
    "from tensorflow.keras.preprocessing import image\n",
    "# path=r\"C:\\Users\\arora\\OneDrive\\Desktop\\45.jpg\"\n",
    "img= image.load_img(path,target_size=(224,224))\n",
    "x= image.img_to_array(img)\n",
    "x=np.expand_dims(x, axis=0)\n",
    "\n",
    "images=np.vstack([x])\n",
    "classes=model.predict(images, batch_size=7)\n",
    "cout=0\n",
    "for i in range(6):\n",
    "    if classes[0][i]>classes[0][i+1]:\n",
    "        classes[0][i+1]=classes[0][i]\n",
    "    else:\n",
    "        cout+=1\n",
    "print(labels[cout])\n"
   ]
  },
  {
   "cell_type": "code",
   "execution_count": null,
   "metadata": {},
   "outputs": [],
   "source": []
  }
 ],
 "metadata": {
  "kernelspec": {
   "display_name": "Python 3",
   "language": "python",
   "name": "python3"
  },
  "language_info": {
   "codemirror_mode": {
    "name": "ipython",
    "version": 3
   },
   "file_extension": ".py",
   "mimetype": "text/x-python",
   "name": "python",
   "nbconvert_exporter": "python",
   "pygments_lexer": "ipython3",
   "version": "3.8.3"
  }
 },
 "nbformat": 4,
 "nbformat_minor": 4
}
